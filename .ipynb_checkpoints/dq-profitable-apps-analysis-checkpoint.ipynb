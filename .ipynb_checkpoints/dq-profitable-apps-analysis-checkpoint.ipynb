{
 "cells": [
  {
   "cell_type": "markdown",
   "metadata": {},
   "source": [
    "# Profitable App Profiles for the App Store and Google Play Markets\n",
    "\n",
    "I work for a company that makes free Android and iOS mobile apps.  Our revenue comes mostly from the in-app ads, so the number of users we have is the most importnant metric.\n",
    "\n",
    "The goal is to analyze data to help our developers understand what type of apps are likely to attract the most users."
   ]
  },
  {
   "cell_type": "markdown",
   "metadata": {},
   "source": [
    "Let's start exploring the data by first opening the two datasets and parsing out the data and header."
   ]
  },
  {
   "cell_type": "code",
   "execution_count": 1,
   "metadata": {},
   "outputs": [],
   "source": [
    "from csv import reader\n",
    "\n",
    "#Google Play dataset\n",
    "opened_file = open('googleplaystore.csv', encoding='utf8')\n",
    "read_file = reader(opened_file)\n",
    "android = list(read_file)\n",
    "android_header = android[0]\n",
    "android_data = android[1:]\n",
    "\n",
    "#Apple Store dataset\n",
    "opened_file = open('AppleStore.csv', encoding='utf8')\n",
    "read_file = reader(opened_file)\n",
    "apple = list(read_file)\n",
    "apple_header = apple[0]\n",
    "apple_data = apple[1:]"
   ]
  },
  {
   "cell_type": "markdown",
   "metadata": {},
   "source": [
    "Now we'll write a function called `explore_data()` to display a slice of the data and to count the number of rows and columns.  We'll display the first 5 rows amd the header for each dataset."
   ]
  },
  {
   "cell_type": "code",
   "execution_count": 2,
   "metadata": {},
   "outputs": [],
   "source": [
    "def explore_data(dataset, start, end, rows_and_columns=False):\n",
    "    dataset_slice = dataset[start:end]    \n",
    "    for row in dataset_slice:\n",
    "        print(row)\n",
    "        print('\\n') # adds a new (empty) line after each row\n",
    "\n",
    "    if rows_and_columns:\n",
    "        print('Number of rows:', len(dataset))\n",
    "        print('Number of columns:', len(dataset[0]))"
   ]
  },
  {
   "cell_type": "code",
   "execution_count": 3,
   "metadata": {
    "scrolled": true
   },
   "outputs": [
    {
     "name": "stdout",
     "output_type": "stream",
     "text": [
      "Google Play Store\n",
      "['App', 'Category', 'Rating', 'Reviews', 'Size', 'Installs', 'Type', 'Price', 'Content Rating', 'Genres', 'Last Updated', 'Current Ver', 'Android Ver']\n",
      "\n",
      "\n",
      "['Photo Editor & Candy Camera & Grid & ScrapBook', 'ART_AND_DESIGN', '4.1', '159', '19M', '10,000+', 'Free', '0', 'Everyone', 'Art & Design', 'January 7, 2018', '1.0.0', '4.0.3 and up']\n",
      "\n",
      "\n",
      "['Coloring book moana', 'ART_AND_DESIGN', '3.9', '967', '14M', '500,000+', 'Free', '0', 'Everyone', 'Art & Design;Pretend Play', 'January 15, 2018', '2.0.0', '4.0.3 and up']\n",
      "\n",
      "\n",
      "['U Launcher Lite – FREE Live Cool Themes, Hide Apps', 'ART_AND_DESIGN', '4.7', '87510', '8.7M', '5,000,000+', 'Free', '0', 'Everyone', 'Art & Design', 'August 1, 2018', '1.2.4', '4.0.3 and up']\n",
      "\n",
      "\n",
      "['Sketch - Draw & Paint', 'ART_AND_DESIGN', '4.5', '215644', '25M', '50,000,000+', 'Free', '0', 'Teen', 'Art & Design', 'June 8, 2018', 'Varies with device', '4.2 and up']\n",
      "\n",
      "\n",
      "['Pixel Draw - Number Art Coloring Book', 'ART_AND_DESIGN', '4.3', '967', '2.8M', '100,000+', 'Free', '0', 'Everyone', 'Art & Design;Creativity', 'June 20, 2018', '1.1', '4.4 and up']\n",
      "\n",
      "\n",
      "Number of rows: 10841\n",
      "Number of columns: 13\n",
      "\n",
      "\n",
      "Apple App Store\n",
      "['', 'id', 'track_name', 'size_bytes', 'currency', 'price', 'rating_count_tot', 'rating_count_ver', 'user_rating', 'user_rating_ver', 'ver', 'cont_rating', 'prime_genre', 'sup_devices.num', 'ipadSc_urls.num', 'lang.num', 'vpp_lic']\n",
      "\n",
      "\n",
      "['1', '281656475', 'PAC-MAN Premium', '100788224', 'USD', '3.99', '21292', '26', '4', '4.5', '6.3.5', '4+', 'Games', '38', '5', '10', '1']\n",
      "\n",
      "\n",
      "['2', '281796108', 'Evernote - stay organized', '158578688', 'USD', '0', '161065', '26', '4', '3.5', '8.2.2', '4+', 'Productivity', '37', '5', '23', '1']\n",
      "\n",
      "\n",
      "['3', '281940292', 'WeatherBug - Local Weather, Radar, Maps, Alerts', '100524032', 'USD', '0', '188583', '2822', '3.5', '4.5', '5.0.0', '4+', 'Weather', '37', '5', '3', '1']\n",
      "\n",
      "\n",
      "['4', '282614216', 'eBay: Best App to Buy, Sell, Save! Online Shopping', '128512000', 'USD', '0', '262241', '649', '4', '4.5', '5.10.0', '12+', 'Shopping', '37', '5', '9', '1']\n",
      "\n",
      "\n",
      "['5', '282935706', 'Bible', '92774400', 'USD', '0', '985920', '5320', '4.5', '5', '7.5.1', '4+', 'Reference', '37', '5', '45', '1']\n",
      "\n",
      "\n",
      "Number of rows: 7197\n",
      "Number of columns: 17\n"
     ]
    }
   ],
   "source": [
    "print('Google Play Store')\n",
    "print(android_header)\n",
    "print('\\n')\n",
    "explore_data(android_data, 0, 5, True)\n",
    "print('\\n')\n",
    "print('Apple App Store')\n",
    "print(apple_header)\n",
    "print('\\n')\n",
    "explore_data(apple_data, 0, 5, True)\n"
   ]
  },
  {
   "cell_type": "markdown",
   "metadata": {},
   "source": [
    "# Cleaning the Data\n",
    "\n",
    "\n",
    "## Removing Incorrect Rows\n",
    "Now we need to clean the data. First we detect if there is any information missing from any of rows.  We'll do this by making sure every row in the data is the same length as the header.  This will only detect a problem if a piece of data is missing, but not if data gets swapped around."
   ]
  },
  {
   "cell_type": "code",
   "execution_count": 4,
   "metadata": {},
   "outputs": [],
   "source": [
    "def del_missing_row(header, data):\n",
    "    header_length = len(header)\n",
    "    for row in data:\n",
    "        if len(row) != header_length:\n",
    "            print(row)\n",
    "            print('row ' + str(data.index(row)) + ' is wrong')\n",
    "            del data[data.index(row)]"
   ]
  },
  {
   "cell_type": "code",
   "execution_count": 5,
   "metadata": {},
   "outputs": [
    {
     "name": "stdout",
     "output_type": "stream",
     "text": [
      "['Life Made WI-Fi Touchscreen Photo Frame', '1.9', '19', '3.0M', '1,000+', 'Free', '0', 'Everyone', '', 'February 11, 2018', '1.0.19', '4.0 and up']\n",
      "row 10472 is wrong\n"
     ]
    }
   ],
   "source": [
    "del_missing_row(android_header, android_data)\n",
    "del_missing_row(apple_header, apple_data)"
   ]
  },
  {
   "cell_type": "markdown",
   "metadata": {},
   "source": [
    "## Removing Duplicate Entries\n",
    "The next step in cleaning up the data is to find and remove any duplicates.  We do this by iterating through the dataset and checking each name against a unique apps list.  If the name is not already found in the list, then it will be added.  If the name is already in the unique apps list, it will instead be added to the duplicate apps list."
   ]
  },
  {
   "cell_type": "code",
   "execution_count": 6,
   "metadata": {},
   "outputs": [],
   "source": [
    "def find_duplicates(dataset):\n",
    "    duplicate_apps = []\n",
    "    unique_apps = []\n",
    "    \n",
    "    for app in dataset:\n",
    "        name = app[0]\n",
    "        if name in unique_apps:\n",
    "            duplicate_apps.append(name)\n",
    "        else:\n",
    "            unique_apps.append(name)\n",
    "            \n",
    "    print('The number of duplicate apps is ' + str(len(duplicate_apps)))"
   ]
  },
  {
   "cell_type": "code",
   "execution_count": 7,
   "metadata": {},
   "outputs": [
    {
     "name": "stdout",
     "output_type": "stream",
     "text": [
      "The number of duplicate apps is 1181\n",
      "The number of duplicate apps is 0\n"
     ]
    }
   ],
   "source": [
    "find_duplicates(android_data)\n",
    "find_duplicates(apple_data)"
   ]
  },
  {
   "cell_type": "markdown",
   "metadata": {},
   "source": [
    "There are 1181 duplicate apps in the Google Play Store.  Let's look at an example of what these duplicate entries look like."
   ]
  },
  {
   "cell_type": "code",
   "execution_count": 8,
   "metadata": {},
   "outputs": [
    {
     "name": "stdout",
     "output_type": "stream",
     "text": [
      "['Instagram', 'SOCIAL', '4.5', '66577313', 'Varies with device', '1,000,000,000+', 'Free', '0', 'Teen', 'Social', 'July 31, 2018', 'Varies with device', 'Varies with device']\n",
      "['Instagram', 'SOCIAL', '4.5', '66577446', 'Varies with device', '1,000,000,000+', 'Free', '0', 'Teen', 'Social', 'July 31, 2018', 'Varies with device', 'Varies with device']\n",
      "['Instagram', 'SOCIAL', '4.5', '66577313', 'Varies with device', '1,000,000,000+', 'Free', '0', 'Teen', 'Social', 'July 31, 2018', 'Varies with device', 'Varies with device']\n",
      "['Instagram', 'SOCIAL', '4.5', '66509917', 'Varies with device', '1,000,000,000+', 'Free', '0', 'Teen', 'Social', 'July 31, 2018', 'Varies with device', 'Varies with device']\n"
     ]
    }
   ],
   "source": [
    "for app in android_data:\n",
    "    name = app[0]\n",
    "    if name == 'Instagram':\n",
    "        print(app)"
   ]
  },
  {
   "cell_type": "markdown",
   "metadata": {},
   "source": [
    "Using Instagram as an example, the duplicates seem to be data on the same app collected at a different time.  The main difference in the duplicates is the total number of reviews the app has.  We want the most recent entry so we will only include the row that has the highest number of reviews and then get rid of the rest.  We end up with 9659 unique Google Play Store apps."
   ]
  },
  {
   "cell_type": "markdown",
   "metadata": {},
   "source": [
    "To do this we'll create a dictionary where each key:value pair is a unique app name:highest number of reviews for that app."
   ]
  },
  {
   "cell_type": "code",
   "execution_count": 9,
   "metadata": {},
   "outputs": [],
   "source": [
    "#Create a dictionary with only unique app names and the highest review\n",
    "reviews_max = {}\n",
    "\n",
    "for app in android_data:\n",
    "    name = app[0]\n",
    "    n_reviews = float(app[3])\n",
    "    \n",
    "    if name in reviews_max and reviews_max[name] < n_reviews:\n",
    "        reviews_max[name] = n_reviews\n",
    "        \n",
    "    elif name not in reviews_max:\n",
    "        reviews_max[name] = n_reviews"
   ]
  },
  {
   "cell_type": "markdown",
   "metadata": {},
   "source": [
    "Now we'll use that dictionary to recreate the dataset without any duplicates.  First we'll initialize two empty lists: `android_no_dupes` and `already_added`.  Then we loop through the Android dataset and add the current app to both lists if two criteria are met:\n",
    "* The number of reviews of the app matches what's in the above dictionary we just made.\n",
    "* The name of the app is not already in the already_added list. We need to add this supplementary condition to account for those cases where the highest number of reviews of a duplicate app is the same for more than one entry (for example, the Box app has three entries, and the number of reviews is the same). If we just check for `reviews_max[name] == n_reviews`, we'll still end up with duplicate entries for some apps."
   ]
  },
  {
   "cell_type": "code",
   "execution_count": 10,
   "metadata": {},
   "outputs": [
    {
     "name": "stdout",
     "output_type": "stream",
     "text": [
      "['Photo Editor & Candy Camera & Grid & ScrapBook', 'ART_AND_DESIGN', '4.1', '159', '19M', '10,000+', 'Free', '0', 'Everyone', 'Art & Design', 'January 7, 2018', '1.0.0', '4.0.3 and up']\n",
      "\n",
      "\n",
      "['U Launcher Lite – FREE Live Cool Themes, Hide Apps', 'ART_AND_DESIGN', '4.7', '87510', '8.7M', '5,000,000+', 'Free', '0', 'Everyone', 'Art & Design', 'August 1, 2018', '1.2.4', '4.0.3 and up']\n",
      "\n",
      "\n",
      "['Sketch - Draw & Paint', 'ART_AND_DESIGN', '4.5', '215644', '25M', '50,000,000+', 'Free', '0', 'Teen', 'Art & Design', 'June 8, 2018', 'Varies with device', '4.2 and up']\n",
      "\n",
      "\n",
      "Number of rows: 9659\n",
      "Number of columns: 13\n"
     ]
    }
   ],
   "source": [
    "android_no_dupes = []\n",
    "already_added = []\n",
    "\n",
    "for app in android_data:\n",
    "    name = app[0]\n",
    "    n_reviews = float(app[3])\n",
    "    \n",
    "    if n_reviews == reviews_max[name] and name not in already_added:\n",
    "        android_no_dupes.append(app)\n",
    "        already_added.append(name)\n",
    "\n",
    "explore_data(android_no_dupes, 0, 3, True)"
   ]
  },
  {
   "cell_type": "markdown",
   "metadata": {},
   "source": [
    "We end up with 9659 rows, which is exactly what we expected."
   ]
  },
  {
   "cell_type": "markdown",
   "metadata": {},
   "source": [
    "## Removing Non-English Apps\n",
    "We only build apps that are directed towards an English-speaking audience, so we won't need any apps that contain non-English characters in its name.  We can do this by taking advantage of the ASCII system and the `ord()` function.  The most common characters used in English all fall in an ASCII range of 0 to 127.  Thus we should remove any apps with names that has a character outside of this range.  However, we have to be careful because there are certain characters like the trademark symbol or emojis that do not fall between 0 and 127 ASCII that could be part of the name and still be English.  Thus we will only get rid of apps if more than 50% of the characters in the name are not in between 0 and 127 in ASCII"
   ]
  },
  {
   "cell_type": "code",
   "execution_count": 11,
   "metadata": {},
   "outputs": [],
   "source": [
    "def english_or_not(string):\n",
    "    nonEnglish = 0\n",
    "    \n",
    "    for char in string:\n",
    "        if ord(char) > 127:\n",
    "            nonEnglish += 1\n",
    "            \n",
    "    pct_nonEnglish = float(nonEnglish)/float(len(string))\n",
    "    if pct_nonEnglish > .50:\n",
    "        return False\n",
    "    else:\n",
    "        return True"
   ]
  },
  {
   "cell_type": "markdown",
   "metadata": {},
   "source": [
    "Now we'll remove all the non-English apps in both datasets and store the reduced datasets in `android_clean` and `apple_clean`."
   ]
  },
  {
   "cell_type": "code",
   "execution_count": 12,
   "metadata": {},
   "outputs": [
    {
     "name": "stdout",
     "output_type": "stream",
     "text": [
      "For Android\n",
      "Number of rows: 9635\n",
      "Number of columns: 13\n",
      "\n",
      "\n",
      "For Apple\n",
      "Number of rows: 6239\n",
      "Number of columns: 17\n"
     ]
    }
   ],
   "source": [
    "android_clean = []\n",
    "apple_clean = []\n",
    "\n",
    "for app in android_no_dupes:\n",
    "    name = app[0]\n",
    "    if english_or_not(name):\n",
    "        android_clean.append(app)\n",
    "        \n",
    "for app in apple_data:\n",
    "    name = app[2]\n",
    "    if english_or_not(name):\n",
    "        apple_clean.append(app)\n",
    "\n",
    "print('For Android')\n",
    "explore_data(android_clean, 0, 0, True)\n",
    "print('\\n')\n",
    "print('For Apple')\n",
    "explore_data(apple_clean, 0, 0, True)"
   ]
  },
  {
   "cell_type": "markdown",
   "metadata": {},
   "source": [
    "# Filtering For Free Apps\n",
    "Since our company only deals with free apps, the last step in the data cleaning process is to filter out apps that cost money to download.  We will store the free apps in `android_free` and `apple_free`, respectively."
   ]
  },
  {
   "cell_type": "code",
   "execution_count": 13,
   "metadata": {},
   "outputs": [
    {
     "name": "stdout",
     "output_type": "stream",
     "text": [
      "For Android\n",
      "Number of rows: 8882\n",
      "Number of columns: 13\n",
      "\n",
      "\n",
      "For Apple\n",
      "Number of rows: 3265\n",
      "Number of columns: 17\n"
     ]
    }
   ],
   "source": [
    "android_free = []\n",
    "apple_free = []\n",
    "\n",
    "for app in android_clean:\n",
    "    price = app[7]\n",
    "    if price == '0.0' or price == '0':\n",
    "        android_free.append(app)\n",
    "        \n",
    "for app in apple_clean:\n",
    "    price = app[5]\n",
    "    if price == '0.0' or price == '0':\n",
    "        apple_free.append(app)\n",
    "        \n",
    "print('For Android')\n",
    "explore_data(android_free, 0, 0, True)\n",
    "print('\\n')\n",
    "print('For Apple')\n",
    "explore_data(apple_free, 0, 0, True)"
   ]
  },
  {
   "cell_type": "markdown",
   "metadata": {},
   "source": [
    "# Analysis\n",
    "\n",
    "To minimize risks and overhead, our validation strategy for an app idea is comprised of three steps:\n",
    "\n",
    "1. Build a minimal Android version of the app and add it to Google Play.\n",
    "2. If the app has a good response from users, we then develop it further.\n",
    "3. If the app is profitable after six months, we build an iOS version and add it to the Apple Store.\n",
    "\n",
    "Because our end goal is to add the app on both the Google Play and the Apple Store, we need to find apps that are successful on both markets.  Let's begin by getting a sense of the most common app genres in each market.  We'll do this by creating frequency tables.\n"
   ]
  },
  {
   "cell_type": "markdown",
   "metadata": {},
   "source": [
    "First, we'll create a dictionary that takes in a `dataset` and an `index` that will count the number of instances in the given column index of each value.  We'll use `index=9` and `index=12` for the android and apple datasets, respetively, to grab the genres."
   ]
  },
  {
   "cell_type": "code",
   "execution_count": 14,
   "metadata": {},
   "outputs": [],
   "source": [
    "def freq_table(dataset, index):\n",
    "    freq = {}\n",
    "    total = 0\n",
    "    \n",
    "    for row in dataset:\n",
    "        total += 1\n",
    "        value = row[index]\n",
    "        if value in freq:\n",
    "            freq[value] += 1\n",
    "        else:\n",
    "            freq[value] = 1\n",
    "            \n",
    "    freq_percentages = {}\n",
    "    for key in freq:\n",
    "        freq_percentages[key] = (freq[key] / total) * 100\n",
    "    return freq_percentages\n",
    "\n",
    "def display_table(dataset, index):\n",
    "    table = freq_table(dataset, index)\n",
    "    table_display = []\n",
    "    for key in table:\n",
    "        key_val_as_tuple = (table[key], key)\n",
    "        table_display.append(key_val_as_tuple)\n",
    "\n",
    "    table_sorted = sorted(table_display, reverse = True)\n",
    "    for entry in table_sorted:\n",
    "        print(entry[1], ':', entry[0])"
   ]
  },
  {
   "cell_type": "code",
   "execution_count": 15,
   "metadata": {},
   "outputs": [
    {
     "name": "stdout",
     "output_type": "stream",
     "text": [
      "Tools : 8.432785408691736\n",
      "Entertainment : 6.079711776626886\n",
      "Education : 5.359153343841477\n",
      "Business : 4.59356000900698\n",
      "Lifestyle : 3.91803647827066\n",
      "Productivity : 3.8955190272461158\n",
      "Finance : 3.6928619680252197\n",
      "Medical : 3.5239810853411395\n",
      "Sports : 3.4564287322675074\n",
      "Personalization : 3.3213240261202435\n",
      "Communication : 3.231254222022067\n",
      "Action : 3.096149515874803\n",
      "Health & Fitness : 3.073632064850259\n",
      "Photography : 2.938527358702995\n",
      "News & Magazines : 2.814681378068003\n",
      "Social : 2.6570592208961945\n",
      "Travel & Local : 2.319297455528034\n",
      "Shopping : 2.24048637694213\n",
      "Books & Reference : 2.161675298356226\n",
      "Simulation : 2.037829317721234\n",
      "Dating : 1.8576897095248817\n",
      "Arcade : 1.8464309840126099\n",
      "Video Players & Editors : 1.7676199054267057\n",
      "Casual : 1.7563611799144336\n",
      "Maps & Navigation : 1.4073406890340014\n",
      "Food & Drink : 1.238459806349921\n",
      "Puzzle : 1.125872551227201\n",
      "Racing : 0.990767845079937\n",
      "Role Playing : 0.9344742175185768\n",
      "Libraries & Demo : 0.9344742175185768\n",
      "Strategy : 0.9232154920063049\n",
      "Auto & Vehicles : 0.9232154920063049\n",
      "House & Home : 0.8218869623958567\n",
      "Weather : 0.7993695113713127\n",
      "Events : 0.7092997072731367\n",
      "Adventure : 0.6867822562485927\n",
      "Comics : 0.6079711776626886\n",
      "Beauty : 0.5967124521504166\n",
      "Art & Design : 0.5967124521504166\n",
      "Parenting : 0.4953839225399685\n",
      "Card : 0.45034902049088044\n",
      "Casino : 0.4278315694663364\n",
      "Trivia : 0.4165728439540644\n",
      "Educational;Education : 0.39405539292952035\n",
      "Board : 0.3827966674172484\n",
      "Educational : 0.37153794190497635\n",
      "Education;Education : 0.3490204908804323\n",
      "Word : 0.25895068678225625\n",
      "Casual;Pretend Play : 0.23643323575771222\n",
      "Music : 0.20265705922089622\n",
      "Racing;Action & Adventure : 0.16888088268408016\n",
      "Puzzle;Brain Games : 0.16888088268408016\n",
      "Entertainment;Music & Video : 0.16888088268408016\n",
      "Casual;Brain Games : 0.13510470614726414\n",
      "Casual;Action & Adventure : 0.13510470614726414\n",
      "Arcade;Action & Adventure : 0.12384598063499212\n",
      "Action;Action & Adventure : 0.10132852961044811\n",
      "Educational;Pretend Play : 0.09006980409817608\n",
      "Simulation;Action & Adventure : 0.07881107858590408\n",
      "Parenting;Education : 0.07881107858590408\n",
      "Entertainment;Brain Games : 0.07881107858590408\n",
      "Board;Brain Games : 0.07881107858590408\n",
      "Parenting;Music & Video : 0.06755235307363207\n",
      "Educational;Brain Games : 0.06755235307363207\n",
      "Casual;Creativity : 0.06755235307363207\n",
      "Art & Design;Creativity : 0.06755235307363207\n",
      "Education;Pretend Play : 0.056293627561360055\n",
      "Role Playing;Pretend Play : 0.04503490204908804\n",
      "Education;Creativity : 0.04503490204908804\n",
      "Role Playing;Action & Adventure : 0.033776176536816034\n",
      "Puzzle;Action & Adventure : 0.033776176536816034\n",
      "Entertainment;Creativity : 0.033776176536816034\n",
      "Entertainment;Action & Adventure : 0.033776176536816034\n",
      "Educational;Creativity : 0.033776176536816034\n",
      "Educational;Action & Adventure : 0.033776176536816034\n",
      "Education;Music & Video : 0.033776176536816034\n",
      "Education;Brain Games : 0.033776176536816034\n",
      "Education;Action & Adventure : 0.033776176536816034\n",
      "Adventure;Action & Adventure : 0.033776176536816034\n",
      "Video Players & Editors;Music & Video : 0.02251745102454402\n",
      "Sports;Action & Adventure : 0.02251745102454402\n",
      "Simulation;Pretend Play : 0.02251745102454402\n",
      "Puzzle;Creativity : 0.02251745102454402\n",
      "Music;Music & Video : 0.02251745102454402\n",
      "Entertainment;Pretend Play : 0.02251745102454402\n",
      "Casual;Education : 0.02251745102454402\n",
      "Board;Action & Adventure : 0.02251745102454402\n",
      "Video Players & Editors;Creativity : 0.01125872551227201\n",
      "Trivia;Education : 0.01125872551227201\n",
      "Travel & Local;Action & Adventure : 0.01125872551227201\n",
      "Tools;Education : 0.01125872551227201\n",
      "Strategy;Education : 0.01125872551227201\n",
      "Strategy;Creativity : 0.01125872551227201\n",
      "Strategy;Action & Adventure : 0.01125872551227201\n",
      "Simulation;Education : 0.01125872551227201\n",
      "Role Playing;Brain Games : 0.01125872551227201\n",
      "Racing;Pretend Play : 0.01125872551227201\n",
      "Puzzle;Education : 0.01125872551227201\n",
      "Parenting;Brain Games : 0.01125872551227201\n",
      "Music & Audio;Music & Video : 0.01125872551227201\n",
      "Lifestyle;Pretend Play : 0.01125872551227201\n",
      "Lifestyle;Education : 0.01125872551227201\n",
      "Health & Fitness;Education : 0.01125872551227201\n",
      "Health & Fitness;Action & Adventure : 0.01125872551227201\n",
      "Entertainment;Education : 0.01125872551227201\n",
      "Communication;Creativity : 0.01125872551227201\n",
      "Comics;Creativity : 0.01125872551227201\n",
      "Casual;Music & Video : 0.01125872551227201\n",
      "Card;Action & Adventure : 0.01125872551227201\n",
      "Books & Reference;Education : 0.01125872551227201\n",
      "Art & Design;Pretend Play : 0.01125872551227201\n",
      "Art & Design;Action & Adventure : 0.01125872551227201\n",
      "Arcade;Pretend Play : 0.01125872551227201\n",
      "Adventure;Education : 0.01125872551227201\n"
     ]
    }
   ],
   "source": [
    "display_table(android_free, 9) # Genre column"
   ]
  },
  {
   "cell_type": "code",
   "execution_count": 16,
   "metadata": {},
   "outputs": [
    {
     "name": "stdout",
     "output_type": "stream",
     "text": [
      "FAMILY : 18.937176311641522\n",
      "GAME : 9.716280117090745\n",
      "TOOLS : 8.444044134204008\n",
      "BUSINESS : 4.59356000900698\n",
      "LIFESTYLE : 3.9292952037829316\n",
      "PRODUCTIVITY : 3.8955190272461158\n",
      "FINANCE : 3.6928619680252197\n",
      "MEDICAL : 3.5239810853411395\n",
      "SPORTS : 3.388876379193875\n",
      "PERSONALIZATION : 3.3213240261202435\n",
      "COMMUNICATION : 3.231254222022067\n",
      "HEALTH_AND_FITNESS : 3.073632064850259\n",
      "PHOTOGRAPHY : 2.938527358702995\n",
      "NEWS_AND_MAGAZINES : 2.814681378068003\n",
      "SOCIAL : 2.6570592208961945\n",
      "TRAVEL_AND_LOCAL : 2.3305561810403064\n",
      "SHOPPING : 2.24048637694213\n",
      "BOOKS_AND_REFERENCE : 2.161675298356226\n",
      "DATING : 1.8576897095248817\n",
      "VIDEO_PLAYERS : 1.7901373564512497\n",
      "MAPS_AND_NAVIGATION : 1.4073406890340014\n",
      "FOOD_AND_DRINK : 1.238459806349921\n",
      "EDUCATION : 1.159648727764017\n",
      "ENTERTAINMENT : 0.956991668543121\n",
      "LIBRARIES_AND_DEMO : 0.9344742175185768\n",
      "AUTO_AND_VEHICLES : 0.9232154920063049\n",
      "HOUSE_AND_HOME : 0.8218869623958567\n",
      "WEATHER : 0.7993695113713127\n",
      "EVENTS : 0.7092997072731367\n",
      "PARENTING : 0.6530060797117767\n",
      "ART_AND_DESIGN : 0.6417473541995046\n",
      "COMICS : 0.6192299031749605\n",
      "BEAUTY : 0.5967124521504166\n"
     ]
    }
   ],
   "source": [
    "display_table(android_free, 1) # Category column"
   ]
  },
  {
   "cell_type": "code",
   "execution_count": 17,
   "metadata": {},
   "outputs": [
    {
     "name": "stdout",
     "output_type": "stream",
     "text": [
      "Games : 58.00918836140888\n",
      "Entertainment : 8.024502297090352\n",
      "Photo & Video : 4.961715160796325\n",
      "Education : 3.6140888208269524\n",
      "Social Networking : 3.215926493108729\n",
      "Shopping : 2.633996937212864\n",
      "Utilities : 2.5114854517611027\n",
      "Sports : 2.113323124042879\n",
      "Music : 2.021439509954058\n",
      "Health & Fitness : 1.9908116385911179\n",
      "Productivity : 1.7457886676875958\n",
      "Lifestyle : 1.6232771822358345\n",
      "News : 1.3476263399693722\n",
      "Travel : 1.2557427258805514\n",
      "Finance : 1.1026033690658499\n",
      "Food & Drink : 0.9188361408882083\n",
      "Weather : 0.8575803981623278\n",
      "Reference : 0.5513016845329249\n",
      "Business : 0.5206738131699847\n",
      "Book : 0.45941807044410415\n",
      "Medical : 0.21439509954058195\n",
      "Navigation : 0.18376722817764166\n",
      "Catalogs : 0.1225114854517611\n"
     ]
    }
   ],
   "source": [
    "display_table(apple_free, 12)"
   ]
  }
 ],
 "metadata": {
  "kernelspec": {
   "display_name": "Python 3",
   "language": "python",
   "name": "python3"
  },
  "language_info": {
   "codemirror_mode": {
    "name": "ipython",
    "version": 3
   },
   "file_extension": ".py",
   "mimetype": "text/x-python",
   "name": "python",
   "nbconvert_exporter": "python",
   "pygments_lexer": "ipython3",
   "version": "3.7.6"
  }
 },
 "nbformat": 4,
 "nbformat_minor": 2
}
